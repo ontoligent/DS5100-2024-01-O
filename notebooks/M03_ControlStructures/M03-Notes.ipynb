{
 "cells": [
  {
   "cell_type": "markdown",
   "id": "5a9be806-985e-4873-bdc4-b8ad943b33b9",
   "metadata": {
    "tags": []
   },
   "source": [
    "# M03 Notes"
   ]
  },
  {
   "cell_type": "markdown",
   "id": "ae211764-c6e2-4475-bab4-5c97e5a7bec9",
   "metadata": {
    "slideshow": {
     "slide_type": "slide"
    },
    "tags": []
   },
   "source": [
    "# Business\n",
    "\n",
    "* Rivanna down until 6am tomorrow\n"
   ]
  },
  {
   "cell_type": "markdown",
   "id": "ba40e6b7-ae5b-4e01-97ca-5563a658af4f",
   "metadata": {
    "slideshow": {
     "slide_type": "slide"
    },
    "tags": []
   },
   "source": [
    "# HW02"
   ]
  },
  {
   "cell_type": "markdown",
   "id": "3868e486-3bc5-4fa0-9acf-607d21a60251",
   "metadata": {
    "tags": []
   },
   "source": [
    "## Task 7\n",
    "\n",
    "Build a dictionary from the touchdowns data, calling it `td`, and print it. Use lists to store the values. Remember that dictionary keys must be unique. (1 PT) "
   ]
  },
  {
   "cell_type": "code",
   "execution_count": 1,
   "id": "680502d9-cba9-49d2-95c2-a24543cc4190",
   "metadata": {
    "tags": []
   },
   "outputs": [],
   "source": [
    "td = {\n",
    "    'Alex': [2, 1],\n",
    "    'Patrick': [4],\n",
    "    'Tom': [1],\n",
    "    'Joe': [3]\n",
    "}"
   ]
  },
  {
   "cell_type": "code",
   "execution_count": 2,
   "id": "6f5feaaa-0f93-4f77-97f7-9b021b037cfe",
   "metadata": {
    "tags": []
   },
   "outputs": [
    {
     "data": {
      "text/plain": [
       "{'Alex': [2, 1], 'Patrick': [4], 'Tom': [1], 'Joe': [3]}"
      ]
     },
     "execution_count": 2,
     "metadata": {},
     "output_type": "execute_result"
    }
   ],
   "source": [
    "td"
   ]
  },
  {
   "cell_type": "markdown",
   "id": "7db05711-f3ee-4c6a-b4a3-73a7270c4810",
   "metadata": {},
   "source": [
    "Automatic population:"
   ]
  },
  {
   "cell_type": "code",
   "execution_count": 3,
   "id": "08569421-6220-4d46-8521-bfd429e8fe76",
   "metadata": {
    "slideshow": {
     "slide_type": "subslide"
    },
    "tags": []
   },
   "outputs": [
    {
     "data": {
      "text/plain": [
       "['Alex    2', 'Patrick 4', 'Tom     1', 'Joe     3', 'Alex    1']"
      ]
     },
     "execution_count": 3,
     "metadata": {},
     "output_type": "execute_result"
    }
   ],
   "source": [
    "td_data = \"\"\"\n",
    "Alex    2\n",
    "Patrick 4\n",
    "Tom     1\n",
    "Joe     3\n",
    "Alex    1\n",
    "\"\"\".split(\"\\n\")[1:-1]\n",
    "td_data"
   ]
  },
  {
   "cell_type": "code",
   "execution_count": 49,
   "id": "7df456aa-12ab-437b-911b-2b927fc2d54b",
   "metadata": {
    "slideshow": {
     "slide_type": "subslide"
    },
    "tags": []
   },
   "outputs": [
    {
     "data": {
      "text/plain": [
       "{'Alex': [2, 1], 'Patrick': [4], 'Tom': [1], 'Joe': [3]}"
      ]
     },
     "execution_count": 49,
     "metadata": {},
     "output_type": "execute_result"
    }
   ],
   "source": [
    "td_dict = {}\n",
    "for row in td_data:\n",
    "    name, n = row.split()\n",
    "    if name not in td_dict.keys():\n",
    "        td_dict[name] = []\n",
    "    td_dict[name].append(int(n))\n",
    "td_dict"
   ]
  },
  {
   "cell_type": "markdown",
   "id": "f6135a57-023b-4da3-804a-f76e5dbd463f",
   "metadata": {},
   "source": [
    "# What's New in Python?\n",
    "\n",
    "- Python 3.7: Dictionary keys stored in order of insertion (was random before).\n",
    "- Python 3.10: Structural pattern matching with the match statement. Functionality akin to the switch or case statements in other languages.\n",
    "- Python 3.11: 25 to 60% faster than 3.10."
   ]
  },
  {
   "cell_type": "markdown",
   "id": "ffd04e13-a5b7-451a-b581-53ca0693060a",
   "metadata": {},
   "source": [
    "See:\n",
    "\n",
    "- https://docs.python.org/3.11/whatsnew/index.html \n",
    "- https://realpython.com/python-news-january-2024/ "
   ]
  },
  {
   "cell_type": "markdown",
   "id": "21025331-461e-4f6a-aeea-14f48379cf06",
   "metadata": {
    "slideshow": {
     "slide_type": "slide"
    },
    "tags": []
   },
   "source": [
    "# Expressions and Statements\n",
    "\n",
    "**Expressions**\n",
    "\n",
    "An expression is a combination of variables, operators, functions, \\\n",
    "other expressions, etc. that **evaluates** to a value.\n",
    "\n",
    "They are often enclosed in, and may contain, parentheses `(...)`.\n",
    "\n",
    "They can be placed in any context a value is expected."
   ]
  },
  {
   "cell_type": "code",
   "execution_count": 99,
   "id": "acc00a4b-1b55-46ad-909c-04e4e588e4c6",
   "metadata": {
    "tags": []
   },
   "outputs": [],
   "source": [
    "import math\n",
    "\n",
    "x = 10\n",
    "y = 3.14"
   ]
  },
  {
   "cell_type": "code",
   "execution_count": 100,
   "id": "1c34ffe5-7d42-4984-9d7d-e5cc448b1e3a",
   "metadata": {
    "tags": []
   },
   "outputs": [
    {
     "data": {
      "text/plain": [
       "94554.75765124639"
      ]
     },
     "execution_count": 100,
     "metadata": {},
     "output_type": "execute_result"
    }
   ],
   "source": [
    "(x**y + y**x) # This is an expression"
   ]
  },
  {
   "cell_type": "code",
   "execution_count": 101,
   "id": "6911e47a-29b5-4e4e-878d-84e40d67aa86",
   "metadata": {
    "tags": []
   },
   "outputs": [
    {
     "data": {
      "text/plain": [
       "11.46"
      ]
     },
     "execution_count": 101,
     "metadata": {},
     "output_type": "execute_result"
    }
   ],
   "source": [
    "round(math.log((x**y + y**x)), 2)"
   ]
  },
  {
   "cell_type": "markdown",
   "id": "04a3eacf-69d1-40a8-a6ed-255a0b896b4a",
   "metadata": {
    "slideshow": {
     "slide_type": "subslide"
    },
    "tags": []
   },
   "source": [
    "**Statements**\n",
    "\n",
    "Statements _do_ things.\n",
    "\n",
    "See [Lutz](https://learning.oreilly.com/library/view/learning-python-5th/9781449355722/ch10.html#python_statements) for a listing of statements."
   ]
  },
  {
   "cell_type": "markdown",
   "id": "c081cc81-89e0-49b6-8d65-fc86bee0df7c",
   "metadata": {
    "slideshow": {
     "slide_type": "slide"
    },
    "tags": []
   },
   "source": [
    "# Reversing Strings"
   ]
  },
  {
   "cell_type": "code",
   "execution_count": 102,
   "id": "e277f6ff-2d56-440b-b386-bddb26dce771",
   "metadata": {
    "tags": []
   },
   "outputs": [],
   "source": [
    "str1 = \"This is a string\""
   ]
  },
  {
   "cell_type": "code",
   "execution_count": 103,
   "id": "cfb58d68-2d9d-4bfe-9571-49dd629be0f8",
   "metadata": {
    "tags": []
   },
   "outputs": [
    {
     "data": {
      "text/plain": [
       "'gnirts a si sihT'"
      ]
     },
     "execution_count": 103,
     "metadata": {},
     "output_type": "execute_result"
    }
   ],
   "source": [
    "''.join(reversed(str1))"
   ]
  },
  {
   "cell_type": "markdown",
   "id": "71520b63-5fc1-4d21-82ea-e6241d00e871",
   "metadata": {},
   "source": [
    "Note that `reversed(list(str))` returns an _iterable_."
   ]
  },
  {
   "cell_type": "code",
   "execution_count": 104,
   "id": "78ff4cf7-cdc3-4042-a375-a2c2fff2e1af",
   "metadata": {
    "tags": []
   },
   "outputs": [
    {
     "name": "stdout",
     "output_type": "stream",
     "text": [
      "g n i r t s   a   s i   s i h T "
     ]
    }
   ],
   "source": [
    "x = reversed(str1)\n",
    "for i in range(len(str1)):\n",
    "    print(next(x), end=' ')"
   ]
  },
  {
   "cell_type": "code",
   "execution_count": 105,
   "id": "53aac36b-07a3-425a-ac9c-39d6f680d7b5",
   "metadata": {
    "tags": []
   },
   "outputs": [
    {
     "ename": "StopIteration",
     "evalue": "",
     "output_type": "error",
     "traceback": [
      "\u001b[0;31m---------------------------------------------------------------------------\u001b[0m",
      "\u001b[0;31mStopIteration\u001b[0m                             Traceback (most recent call last)",
      "Cell \u001b[0;32mIn[105], line 2\u001b[0m\n\u001b[1;32m      1\u001b[0m \u001b[38;5;28;01mfor\u001b[39;00m i \u001b[38;5;129;01min\u001b[39;00m \u001b[38;5;28mrange\u001b[39m(\u001b[38;5;28mlen\u001b[39m(str1)):\n\u001b[0;32m----> 2\u001b[0m     \u001b[38;5;28mprint\u001b[39m(\u001b[38;5;28mnext\u001b[39m(x), end\u001b[38;5;241m=\u001b[39m\u001b[38;5;124m'\u001b[39m\u001b[38;5;124m'\u001b[39m)\n",
      "\u001b[0;31mStopIteration\u001b[0m: "
     ]
    }
   ],
   "source": [
    "for i in range(len(str1)):\n",
    "    print(next(x), end='')"
   ]
  },
  {
   "cell_type": "markdown",
   "id": "4069634e-bcea-41e3-b66c-93739d5b11db",
   "metadata": {
    "slideshow": {
     "slide_type": "slide"
    },
    "tags": []
   },
   "source": [
    "# Nesting in Comprehensions"
   ]
  },
  {
   "cell_type": "markdown",
   "id": "3e85e420-e8c5-4c0c-b8ec-4e658a2fb0ed",
   "metadata": {
    "tags": []
   },
   "source": [
    "**Example 1**\n",
    "\n",
    "Create the following:\n",
    "\n",
    "```python\n",
    "my_matrix = [\n",
    "    [0, 1, 2, 3, 4],\n",
    "    [0, 1, 2, 3, 4],\n",
    "    [0, 1, 2, 3, 4],\n",
    "    [0, 1, 2, 3, 4],\n",
    "    [0, 1, 2, 3, 4]\n",
    "]\n",
    "```"
   ]
  },
  {
   "cell_type": "markdown",
   "id": "ecbba970-80fe-4d03-960b-1a19e664bc7f",
   "metadata": {
    "slideshow": {
     "slide_type": "subslide"
    },
    "tags": []
   },
   "source": [
    "Conventional method:"
   ]
  },
  {
   "cell_type": "code",
   "execution_count": 106,
   "id": "5847918c-c28a-47d6-b5d1-905834226ad4",
   "metadata": {
    "tags": []
   },
   "outputs": [
    {
     "data": {
      "text/plain": [
       "[[0, 1, 2, 3, 4],\n",
       " [0, 1, 2, 3, 4],\n",
       " [0, 1, 2, 3, 4],\n",
       " [0, 1, 2, 3, 4],\n",
       " [0, 1, 2, 3, 4]]"
      ]
     },
     "execution_count": 106,
     "metadata": {},
     "output_type": "execute_result"
    }
   ],
   "source": [
    "my_matrix = []\n",
    "n_rows = 5\n",
    "n_cols = 5\n",
    "\n",
    "for i in range(n_rows):\n",
    "    my_matrix.append([])\n",
    "    for j in range(n_cols):\n",
    "        my_matrix[i].append(j)\n",
    "\n",
    "my_matrix"
   ]
  },
  {
   "cell_type": "markdown",
   "id": "406ad1e0-d0ef-4c91-975d-cbdba3a7164f",
   "metadata": {
    "slideshow": {
     "slide_type": "subslide"
    },
    "tags": []
   },
   "source": [
    "As a comprehension:"
   ]
  },
  {
   "cell_type": "code",
   "execution_count": 107,
   "id": "0ccced17-bd9e-449a-98e7-3d3b910b824c",
   "metadata": {
    "tags": []
   },
   "outputs": [
    {
     "data": {
      "text/plain": [
       "[[0, 1, 2, 3, 4],\n",
       " [0, 1, 2, 3, 4],\n",
       " [0, 1, 2, 3, 4],\n",
       " [0, 1, 2, 3, 4],\n",
       " [0, 1, 2, 3, 4]]"
      ]
     },
     "execution_count": 107,
     "metadata": {},
     "output_type": "execute_result"
    }
   ],
   "source": [
    "my_matrix2 = [\n",
    "    [j for j in range(n_cols)] \n",
    "    for i in range(n_rows)\n",
    "]\n",
    "\n",
    "my_matrix2"
   ]
  },
  {
   "cell_type": "markdown",
   "id": "deaa2be7-0d38-4b82-97b6-27e491177bee",
   "metadata": {
    "slideshow": {
     "slide_type": "subslide"
    },
    "tags": []
   },
   "source": [
    "Note the difference to this:"
   ]
  },
  {
   "cell_type": "code",
   "execution_count": 108,
   "id": "5f0f8975-7bb3-4a92-baa9-5150646d3d7b",
   "metadata": {
    "tags": []
   },
   "outputs": [
    {
     "data": {
      "text/plain": [
       "[(0, 0),\n",
       " (0, 1),\n",
       " (0, 2),\n",
       " (0, 3),\n",
       " (0, 4),\n",
       " (1, 0),\n",
       " (1, 1),\n",
       " (1, 2),\n",
       " (1, 3),\n",
       " (1, 4),\n",
       " (2, 0),\n",
       " (2, 1),\n",
       " (2, 2),\n",
       " (2, 3),\n",
       " (2, 4),\n",
       " (3, 0),\n",
       " (3, 1),\n",
       " (3, 2),\n",
       " (3, 3),\n",
       " (3, 4),\n",
       " (4, 0),\n",
       " (4, 1),\n",
       " (4, 2),\n",
       " (4, 3),\n",
       " (4, 4)]"
      ]
     },
     "execution_count": 108,
     "metadata": {},
     "output_type": "execute_result"
    }
   ],
   "source": [
    "[(i,j) for i in range(n_rows) for j in range(n_cols)]"
   ]
  },
  {
   "cell_type": "markdown",
   "id": "1c7ba8c6-b1a0-4c00-8b69-97ca59463a98",
   "metadata": {
    "slideshow": {
     "slide_type": "subslide"
    },
    "tags": []
   },
   "source": [
    "**Example 2**\n",
    "\n",
    "Nested List Comprehension to flatten a given 2-D matrix."
   ]
  },
  {
   "cell_type": "code",
   "execution_count": 109,
   "id": "c224bcf8-4ab5-4282-bfb1-9bc9b071f448",
   "metadata": {
    "tags": []
   },
   "outputs": [
    {
     "data": {
      "text/plain": [
       "[0, 1, 2, 3, 4, 0, 1, 2, 3, 4, 0, 1, 2, 3, 4, 0, 1, 2, 3, 4, 0, 1, 2, 3, 4]"
      ]
     },
     "execution_count": 109,
     "metadata": {},
     "output_type": "execute_result"
    }
   ],
   "source": [
    "my_flat_matrix = [val \n",
    "                  for row in my_matrix \n",
    "                  for val in row]\n",
    "\n",
    "my_flat_matrix"
   ]
  },
  {
   "cell_type": "markdown",
   "id": "ce41d9d9-1a95-4091-8ea6-6947d59604a9",
   "metadata": {},
   "source": [
    "# Anatomy of a Comprehension\n",
    "\n",
    "![](https://python-3-patterns-idioms-test.readthedocs.io/en/latest/_images/listComprehensions.gif)\n",
    "\n",
    "[Source](https://python-3-patterns-idioms-test.readthedocs.io/en/latest/Comprehensions.html)"
   ]
  },
  {
   "cell_type": "code",
   "execution_count": null,
   "id": "10330536-be4c-4636-a771-12795448e239",
   "metadata": {},
   "outputs": [],
   "source": []
  }
 ],
 "metadata": {
  "kernelspec": {
   "display_name": "Python 3 (ipykernel)",
   "language": "python",
   "name": "python3"
  },
  "language_info": {
   "codemirror_mode": {
    "name": "ipython",
    "version": 3
   },
   "file_extension": ".py",
   "mimetype": "text/x-python",
   "name": "python",
   "nbconvert_exporter": "python",
   "pygments_lexer": "ipython3",
   "version": "3.11.5"
  }
 },
 "nbformat": 4,
 "nbformat_minor": 5
}

{
 "cells": [
  {
   "cell_type": "markdown",
   "id": "00769ffe-1611-4f41-861b-9cd3b6ceb4f6",
   "metadata": {},
   "source": [
    "# M04 Notes"
   ]
  },
  {
   "cell_type": "markdown",
   "id": "c10a93cb-2b9b-4142-a56f-1535ef4c08a0",
   "metadata": {},
   "source": [
    "## An alternate solution to HW03 Task 1\n",
    "\n",
    "The main ideas are:\n",
    "1. Expressions behave as values.\n",
    "2. Boolean expressions evaluate to numeric values.\n",
    "3. Compound expressions can be replaced by arithmetic.\n",
    "\n",
    "Regarding #3, note how conditions 1, 2, and 3 are met implicitly by the use of multiplication and addition."
   ]
  },
  {
   "cell_type": "code",
   "execution_count": 31,
   "id": "73dc6e81-b9f4-4629-9b4f-8cb57168a4d5",
   "metadata": {},
   "outputs": [],
   "source": [
    "N = range(1, 101)\n",
    "A = [(x % 3 == 0) * 'Wahoo' for x in N]\n",
    "B = [(x % 5 == 0) * 'wah!' for x in N]\n",
    "C = [a + b for a, b in zip(A, B) if a + b]"
   ]
  },
  {
   "cell_type": "code",
   "execution_count": 36,
   "id": "a076523e-ea52-4177-b6a4-8e7c581eb065",
   "metadata": {
    "tags": []
   },
   "outputs": [
    {
     "name": "stdout",
     "output_type": "stream",
     "text": [
      "Wahoo\n",
      "wah!\n",
      "Wahoo\n",
      "Wahoo\n",
      "wah!\n",
      "Wahoo\n",
      "Wahoowah!\n",
      "Wahoo\n",
      "wah!\n",
      "Wahoo\n",
      "Wahoo\n",
      "wah!\n",
      "Wahoo\n",
      "Wahoowah!\n",
      "Wahoo\n",
      "wah!\n",
      "Wahoo\n",
      "Wahoo\n",
      "wah!\n",
      "Wahoo\n",
      "Wahoowah!\n",
      "Wahoo\n",
      "wah!\n",
      "Wahoo\n",
      "Wahoo\n",
      "wah!\n",
      "Wahoo\n",
      "Wahoowah!\n",
      "Wahoo\n",
      "wah!\n",
      "Wahoo\n",
      "Wahoo\n",
      "wah!\n",
      "Wahoo\n",
      "Wahoowah!\n",
      "Wahoo\n",
      "wah!\n",
      "Wahoo\n",
      "Wahoo\n",
      "wah!\n",
      "Wahoo\n",
      "Wahoowah!\n",
      "Wahoo\n",
      "wah!\n",
      "Wahoo\n",
      "Wahoo\n",
      "wah!\n",
      "47\n"
     ]
    }
   ],
   "source": [
    "print('\\n'.join(C))\n",
    "print(len(C))"
   ]
  },
  {
   "cell_type": "markdown",
   "id": "848bf60c-75db-4cf2-a5ac-01c21b0df5ec",
   "metadata": {},
   "source": [
    "A closer look ..."
   ]
  },
  {
   "cell_type": "code",
   "execution_count": 38,
   "id": "eb85b22c-44f6-4f7b-85bc-8647b5d172d6",
   "metadata": {
    "tags": []
   },
   "outputs": [
    {
     "name": "stdout",
     "output_type": "stream",
     "text": [
      "['', '', 'Wahoo', '', '', 'Wahoo', '', '', 'Wahoo', '', '', 'Wahoo', '', '', 'Wahoo', '', '', 'Wahoo', '', '', 'Wahoo', '', '', 'Wahoo', '', '', 'Wahoo', '', '', 'Wahoo', '', '', 'Wahoo', '', '', 'Wahoo', '', '', 'Wahoo', '', '', 'Wahoo', '', '', 'Wahoo', '', '', 'Wahoo', '', '', 'Wahoo', '', '', 'Wahoo', '', '', 'Wahoo', '', '', 'Wahoo', '', '', 'Wahoo', '', '', 'Wahoo', '', '', 'Wahoo', '', '', 'Wahoo', '', '', 'Wahoo', '', '', 'Wahoo', '', '', 'Wahoo', '', '', 'Wahoo', '', '', 'Wahoo', '', '', 'Wahoo', '', '', 'Wahoo', '', '', 'Wahoo', '', '', 'Wahoo', '']\n"
     ]
    }
   ],
   "source": [
    "print(A) # A list with a value every 3rd element"
   ]
  },
  {
   "cell_type": "code",
   "execution_count": 37,
   "id": "2e285e77-c9b3-44b7-979d-5256569d07e6",
   "metadata": {
    "tags": []
   },
   "outputs": [
    {
     "name": "stdout",
     "output_type": "stream",
     "text": [
      "['', '', '', '', 'wah!', '', '', '', '', 'wah!', '', '', '', '', 'wah!', '', '', '', '', 'wah!', '', '', '', '', 'wah!', '', '', '', '', 'wah!', '', '', '', '', 'wah!', '', '', '', '', 'wah!', '', '', '', '', 'wah!', '', '', '', '', 'wah!', '', '', '', '', 'wah!', '', '', '', '', 'wah!', '', '', '', '', 'wah!', '', '', '', '', 'wah!', '', '', '', '', 'wah!', '', '', '', '', 'wah!', '', '', '', '', 'wah!', '', '', '', '', 'wah!', '', '', '', '', 'wah!', '', '', '', '', 'wah!']\n"
     ]
    }
   ],
   "source": [
    "print(B) # A list with a value every 5th element"
   ]
  },
  {
   "cell_type": "code",
   "execution_count": 28,
   "id": "ef656f5c-f82d-4eb0-a4c9-283212a96544",
   "metadata": {
    "tags": []
   },
   "outputs": [
    {
     "name": "stdout",
     "output_type": "stream",
     "text": [
      "03 Wahoo\n",
      "05 wah!\n",
      "06 Wahoo\n",
      "09 Wahoo\n",
      "10 wah!\n",
      "12 Wahoo\n",
      "15 Wahoowah!\n",
      "18 Wahoo\n",
      "20 wah!\n",
      "21 Wahoo\n",
      "24 Wahoo\n",
      "25 wah!\n",
      "27 Wahoo\n",
      "30 Wahoowah!\n",
      "33 Wahoo\n",
      "35 wah!\n",
      "36 Wahoo\n",
      "39 Wahoo\n",
      "40 wah!\n",
      "42 Wahoo\n",
      "45 Wahoowah!\n",
      "48 Wahoo\n",
      "50 wah!\n",
      "51 Wahoo\n",
      "54 Wahoo\n",
      "55 wah!\n",
      "57 Wahoo\n",
      "60 Wahoowah!\n",
      "63 Wahoo\n",
      "65 wah!\n",
      "66 Wahoo\n",
      "69 Wahoo\n",
      "70 wah!\n",
      "72 Wahoo\n",
      "75 Wahoowah!\n",
      "78 Wahoo\n",
      "80 wah!\n",
      "81 Wahoo\n",
      "84 Wahoo\n",
      "85 wah!\n",
      "87 Wahoo\n",
      "90 Wahoowah!\n",
      "93 Wahoo\n",
      "95 wah!\n",
      "96 Wahoo\n",
      "99 Wahoo\n",
      "100 wah!\n"
     ]
    }
   ],
   "source": [
    "for x in N:\n",
    "    print(str(x).zfill(2), ' ', A[x-1], B[x-1], sep='') if A[x-1] or B[x-1] else next"
   ]
  },
  {
   "cell_type": "markdown",
   "id": "d04941f8-5707-447e-b26e-b957e3c428c6",
   "metadata": {},
   "source": [
    "# In-Place Operations\n",
    "\n",
    "Lutz goes into the difference between the += and the + in [Ch 11 pages 360-363](https://learning.oreilly.com/library/view/learning-python-5th/9781449355722/ch11.html#augmented_assignments).\n",
    "\n",
    "**In-place operations**\n",
    "\n",
    "`a += b` is the same as `operator.iadd(a, b)`"
   ]
  },
  {
   "cell_type": "code",
   "execution_count": 1,
   "id": "dbba5953-3598-4eb2-999e-9c1abfd23c37",
   "metadata": {
    "tags": []
   },
   "outputs": [],
   "source": [
    "import operator"
   ]
  },
  {
   "cell_type": "code",
   "execution_count": 2,
   "id": "59bb1cfc-9272-4718-b548-266b07a57ff1",
   "metadata": {
    "tags": []
   },
   "outputs": [],
   "source": [
    "a = [1,2,3]\n",
    "b = [4,5,6]"
   ]
  },
  {
   "cell_type": "code",
   "execution_count": 3,
   "id": "8679a5f3-1363-489f-a944-2c2bfa8781b2",
   "metadata": {
    "tags": []
   },
   "outputs": [
    {
     "data": {
      "text/plain": [
       "[1, 2, 3, 4, 5, 6]"
      ]
     },
     "execution_count": 3,
     "metadata": {},
     "output_type": "execute_result"
    }
   ],
   "source": [
    "operator.iadd(a, b)"
   ]
  },
  {
   "cell_type": "code",
   "execution_count": 4,
   "id": "2b31bf4c-2e06-4882-bd08-62b54d2d7fb1",
   "metadata": {
    "tags": []
   },
   "outputs": [
    {
     "data": {
      "text/plain": [
       "([1, 2, 3, 4, 5, 6], [4, 5, 6])"
      ]
     },
     "execution_count": 4,
     "metadata": {},
     "output_type": "execute_result"
    }
   ],
   "source": [
    "a, b"
   ]
  },
  {
   "cell_type": "code",
   "execution_count": 5,
   "id": "4a664900-d7cb-4887-aec0-0017e4642b7f",
   "metadata": {
    "tags": []
   },
   "outputs": [
    {
     "data": {
      "text/plain": [
       "[1, 2, 3, 4, 5, 6, 1, 2, 3, 4, 5, 6]"
      ]
     },
     "execution_count": 5,
     "metadata": {},
     "output_type": "execute_result"
    }
   ],
   "source": [
    "operator.imul(a, 2)"
   ]
  },
  {
   "cell_type": "code",
   "execution_count": 6,
   "id": "6fc1358b-de5c-42ce-a6d1-c0a8e1756842",
   "metadata": {
    "tags": []
   },
   "outputs": [
    {
     "data": {
      "text/plain": [
       "[1, 2, 3, 4, 5, 6, 1, 2, 3, 4, 5, 6]"
      ]
     },
     "execution_count": 6,
     "metadata": {},
     "output_type": "execute_result"
    }
   ],
   "source": [
    "a"
   ]
  },
  {
   "cell_type": "markdown",
   "id": "29143b67-6169-44a9-a221-e4524197b406",
   "metadata": {},
   "source": [
    "**In-place functions**\n",
    "\n",
    "Sometimes functions and methods perform in-place operations. \n",
    "\n",
    "For example, these list methods perform in-place operations:\n"
   ]
  },
  {
   "cell_type": "code",
   "execution_count": 7,
   "id": "c50e13ec-9e5a-44f8-8671-6cdc69a91508",
   "metadata": {
    "tags": []
   },
   "outputs": [
    {
     "data": {
      "text/plain": [
       "[1, 2, 3, 4, 5, 6, 1, 2, 3, 4, 5, 6]"
      ]
     },
     "execution_count": 7,
     "metadata": {},
     "output_type": "execute_result"
    }
   ],
   "source": [
    "a"
   ]
  },
  {
   "cell_type": "code",
   "execution_count": 8,
   "id": "798503da-0fbc-4f87-8601-e28544338209",
   "metadata": {
    "tags": []
   },
   "outputs": [
    {
     "data": {
      "text/plain": [
       "6"
      ]
     },
     "execution_count": 8,
     "metadata": {},
     "output_type": "execute_result"
    }
   ],
   "source": [
    "a.pop()"
   ]
  },
  {
   "cell_type": "code",
   "execution_count": 9,
   "id": "6225394e-fbd4-406d-8e65-027c1a6a860d",
   "metadata": {
    "tags": []
   },
   "outputs": [
    {
     "data": {
      "text/plain": [
       "[1, 2, 3, 4, 5, 6, 1, 2, 3, 4, 5]"
      ]
     },
     "execution_count": 9,
     "metadata": {},
     "output_type": "execute_result"
    }
   ],
   "source": [
    "a"
   ]
  },
  {
   "cell_type": "code",
   "execution_count": 10,
   "id": "023079e9-4ac6-450c-9304-b3475d38b6e9",
   "metadata": {
    "tags": []
   },
   "outputs": [],
   "source": [
    "a.insert(0, 10)"
   ]
  },
  {
   "cell_type": "code",
   "execution_count": 11,
   "id": "68490629-dd62-49fa-9d44-d7f6e99b851d",
   "metadata": {
    "tags": []
   },
   "outputs": [
    {
     "data": {
      "text/plain": [
       "[10, 1, 2, 3, 4, 5, 6, 1, 2, 3, 4, 5]"
      ]
     },
     "execution_count": 11,
     "metadata": {},
     "output_type": "execute_result"
    }
   ],
   "source": [
    "a"
   ]
  },
  {
   "cell_type": "code",
   "execution_count": 12,
   "id": "b131f9bf-2ab9-4376-bdf4-f6ff4b5f7413",
   "metadata": {
    "tags": []
   },
   "outputs": [],
   "source": [
    "a.append(50)"
   ]
  },
  {
   "cell_type": "code",
   "execution_count": 13,
   "id": "108536a7-4da0-4648-9573-bc93fb1c3ee7",
   "metadata": {
    "tags": []
   },
   "outputs": [
    {
     "data": {
      "text/plain": [
       "[10, 1, 2, 3, 4, 5, 6, 1, 2, 3, 4, 5, 50]"
      ]
     },
     "execution_count": 13,
     "metadata": {},
     "output_type": "execute_result"
    }
   ],
   "source": [
    "a"
   ]
  },
  {
   "cell_type": "code",
   "execution_count": 14,
   "id": "06e372c0-ce69-4b53-b82f-d4ed5db19ff5",
   "metadata": {
    "tags": []
   },
   "outputs": [],
   "source": [
    "a.reverse()"
   ]
  },
  {
   "cell_type": "code",
   "execution_count": 15,
   "id": "a913d261-1610-4c3b-9d7a-fb55defe4059",
   "metadata": {
    "tags": []
   },
   "outputs": [
    {
     "data": {
      "text/plain": [
       "[50, 5, 4, 3, 2, 1, 6, 5, 4, 3, 2, 1, 10]"
      ]
     },
     "execution_count": 15,
     "metadata": {},
     "output_type": "execute_result"
    }
   ],
   "source": [
    "a"
   ]
  },
  {
   "cell_type": "markdown",
   "id": "bd6d90bc-3981-4fd5-8e87-40efc9269e0a",
   "metadata": {},
   "source": [
    "These functions do not perform in-place operations:"
   ]
  },
  {
   "cell_type": "code",
   "execution_count": 20,
   "id": "a2a2ed60-e95a-46ca-9aee-05c84c8b20db",
   "metadata": {
    "tags": []
   },
   "outputs": [
    {
     "data": {
      "text/plain": [
       "[1, 1, 2, 2, 3, 3, 4, 4, 5, 5, 6, 10, 50]"
      ]
     },
     "execution_count": 20,
     "metadata": {},
     "output_type": "execute_result"
    }
   ],
   "source": [
    "sorted(a)"
   ]
  },
  {
   "cell_type": "code",
   "execution_count": 21,
   "id": "f921e186-495b-4073-9377-8094a856c463",
   "metadata": {
    "tags": []
   },
   "outputs": [
    {
     "data": {
      "text/plain": [
       "[50, 5, 4, 3, 2, 1, 6, 5, 4, 3, 2, 1, 10]"
      ]
     },
     "execution_count": 21,
     "metadata": {},
     "output_type": "execute_result"
    }
   ],
   "source": [
    "a"
   ]
  },
  {
   "cell_type": "code",
   "execution_count": 22,
   "id": "f286cb15-1bfe-4e20-bf7d-def3cd9f2847",
   "metadata": {
    "tags": []
   },
   "outputs": [
    {
     "data": {
      "text/plain": [
       "[10, 1, 2, 3, 4, 5, 6, 1, 2, 3, 4, 5, 50]"
      ]
     },
     "execution_count": 22,
     "metadata": {},
     "output_type": "execute_result"
    }
   ],
   "source": [
    "list(reversed(a))"
   ]
  },
  {
   "cell_type": "code",
   "execution_count": 23,
   "id": "ea6c00df-2107-4bc2-82b1-47b46fecf69e",
   "metadata": {
    "tags": []
   },
   "outputs": [
    {
     "data": {
      "text/plain": [
       "[50, 5, 4, 3, 2, 1, 6, 5, 4, 3, 2, 1, 10]"
      ]
     },
     "execution_count": 23,
     "metadata": {},
     "output_type": "execute_result"
    }
   ],
   "source": [
    "a"
   ]
  }
 ],
 "metadata": {
  "kernelspec": {
   "display_name": "Python 3 (ipykernel)",
   "language": "python",
   "name": "python3"
  },
  "language_info": {
   "codemirror_mode": {
    "name": "ipython",
    "version": 3
   },
   "file_extension": ".py",
   "mimetype": "text/x-python",
   "name": "python",
   "nbconvert_exporter": "python",
   "pygments_lexer": "ipython3",
   "version": "3.11.4"
  }
 },
 "nbformat": 4,
 "nbformat_minor": 5
}

{
 "cells": [
  {
   "cell_type": "markdown",
   "id": "7a39eabb-1c32-4a6c-858c-a1b105938315",
   "metadata": {},
   "source": [
    "# Hello Exercise\n",
    "\n",
    "Students fork and clone the course repo, then create a file in a specified directory of their local repo.\n",
    "\n",
    "After that they push it to the remote and then initiate a pull request.\n",
    "\n",
    "These requests are merged and then pulled locally here. \n",
    "\n",
    "The results are aggregated and printed below."
   ]
  },
  {
   "cell_type": "code",
   "execution_count": 9,
   "id": "aaaaa06a-7fd7-483b-8707-0fd4b3231363",
   "metadata": {
    "tags": []
   },
   "outputs": [],
   "source": [
    "import glob\n",
    "import pandas as pd"
   ]
  },
  {
   "cell_type": "code",
   "execution_count": 10,
   "id": "1f71bcb5-9fbf-41ea-ba8d-8b8ad0019e0b",
   "metadata": {
    "tags": []
   },
   "outputs": [],
   "source": [
    "data = []\n",
    "files = glob.glob(\"./hello/*_*.txt\")"
   ]
  },
  {
   "cell_type": "code",
   "execution_count": 11,
   "id": "70f85b50-7275-4819-b0ac-566ffc84d24b",
   "metadata": {
    "tags": []
   },
   "outputs": [
    {
     "name": "stdout",
     "output_type": "stream",
     "text": [
      "26\n"
     ]
    }
   ],
   "source": [
    "print(len(files))"
   ]
  },
  {
   "cell_type": "code",
   "execution_count": 12,
   "id": "3576e753-ce37-409d-ae52-9c3a6dd22834",
   "metadata": {
    "tags": []
   },
   "outputs": [],
   "source": [
    "n_students = 40"
   ]
  },
  {
   "cell_type": "code",
   "execution_count": 13,
   "id": "e2f371fc-53e6-4053-b4a2-0bce5f4ebd58",
   "metadata": {
    "tags": []
   },
   "outputs": [
    {
     "data": {
      "text/plain": [
       "14"
      ]
     },
     "execution_count": 13,
     "metadata": {},
     "output_type": "execute_result"
    }
   ],
   "source": [
    "n_students - len(files)"
   ]
  },
  {
   "cell_type": "code",
   "execution_count": 14,
   "id": "4a44ab38-4c3e-4e17-a5cc-da98f8a84f0d",
   "metadata": {
    "tags": []
   },
   "outputs": [],
   "source": [
    "for i, file in enumerate(files):\n",
    "    sid = file.split(\"/\")[2].split(\"_\")[0]\n",
    "    line = open(file, 'r').read().strip()\n",
    "    row = (sid, line.replace('\\n', ' '))\n",
    "    data.append(row)"
   ]
  },
  {
   "cell_type": "code",
   "execution_count": 15,
   "id": "d639031b-10ed-47ad-a3fd-87ddc9c91d74",
   "metadata": {
    "tags": []
   },
   "outputs": [],
   "source": [
    "df = pd.DataFrame(data, columns=['user_id','comment'])"
   ]
  },
  {
   "cell_type": "code",
   "execution_count": 16,
   "id": "9ec8280b-a44b-4cfa-bd40-9188012fa5a2",
   "metadata": {
    "tags": []
   },
   "outputs": [
    {
     "name": "stdout",
     "output_type": "stream",
     "text": [
      "00 | db5kb | I watched Godzilla minus One and it was a fun watch.\n",
      "\n",
      "01 | uwa6xv | The last movie I watched was Jurassic Park for the technical orientation.\n",
      "\n",
      "02 | rvu5vw | I watched Pet Sematary Bloodlines. It was corny and I loved it! :)\n",
      "\n",
      "03 | sck4jh | Interstellar\n",
      "\n",
      "04 | ycv3fh | The most recent film I enjoyed would have to be the Barbie movie.\n",
      "\n",
      "05 | ki5rb | The most recent movie I watched and enjoyed was Godzilla Minus One.\n",
      "\n",
      "06 | ia5qk | The most recent movie I enjoyed was a modern bollywood love story called Rocky Aur Rani.\n",
      "\n",
      "07 | rca2t | I saw Barbie and I thought it was good.\n",
      "\n",
      "08 | esa5ch | what film did I watch and enjoy recently? How to lose a guy in 10 days\n",
      "\n",
      "09 | cbv6gd | I watched Dogtooth recently and really enjoyed it.\n",
      "\n",
      "10 | uts4gf | Hello! My name is Olivia Kantor. My favorite movie I've seen recently is Boys In the Boat.\n",
      "\n",
      "11 | dfe2zj | my first class file\n",
      "\n",
      "12 | qzu3js | Question:   What is the most recent film you watched and enjoyed?  Answer:   The most recent film which I have enjoyed recently is Mission Impossible: Dead Reckoning Part One.\n",
      "\n",
      "13 | qfw3cr | The last movie that I saw was Remember the Titans with Denzel Washington\n",
      "\n",
      "14 | nge4py | I enjoyed watching Mario on Netflix with my kids\n",
      "\n",
      "15 | rcs2mh | I saw Society of the Snow last week and I thought the story was very well told!\n",
      "\n",
      "16 | rah5ff | The last movie I saw was Saltburn, it definitely got weird!\n",
      "\n",
      "17 | cdw7dr | Oppenheimer.\n",
      "\n",
      "18 | zsf9pd | I recently watched the movie Oppenheimer.\n",
      "\n",
      "19 | ctx8bn | The most recent film I watched and enjoyed was Burlesque.\n",
      "\n",
      "20 | tar3kh | My name is Timothy Rodriguez and I recently watched and enjoyed Oppenhiemer\n",
      "\n",
      "21 | etk3pu | I liked Jurrasic Park for the dinosaurs.\n",
      "\n",
      "22 | fxj5fe | The most recent film I watched and enjoyed was Napoleon.\n",
      "\n",
      "23 | mxg9xv | \n",
      "\n",
      "24 | djz6nn | I watched killers of the flower moon and like it.\n",
      "\n",
      "25 | dss2q | What is the most recent film you watched and enjoyed?  The Green Knight (2021).\n",
      "\n"
     ]
    }
   ],
   "source": [
    "for i, r in enumerate(df.user_id + ' | ' + df.comment):\n",
    "    print(str(i).zfill(2), \"| \" + r + \"\\n\")"
   ]
  },
  {
   "cell_type": "code",
   "execution_count": null,
   "id": "b8e2341f-8061-455b-b08d-7b553c7359f8",
   "metadata": {},
   "outputs": [],
   "source": []
  }
 ],
 "metadata": {
  "kernelspec": {
   "display_name": "Python 3 (ipykernel)",
   "language": "python",
   "name": "python3"
  },
  "language_info": {
   "codemirror_mode": {
    "name": "ipython",
    "version": 3
   },
   "file_extension": ".py",
   "mimetype": "text/x-python",
   "name": "python",
   "nbconvert_exporter": "python",
   "pygments_lexer": "ipython3",
   "version": "3.11.4"
  },
  "widgets": {
   "application/vnd.jupyter.widget-state+json": {
    "state": {},
    "version_major": 2,
    "version_minor": 0
   }
  }
 },
 "nbformat": 4,
 "nbformat_minor": 5
}
